{
 "cells": [
  {
   "cell_type": "code",
   "execution_count": 12,
   "id": "7bd6ff76-1b39-4174-90ae-4ff3c2c1cab9",
   "metadata": {},
   "outputs": [],
   "source": [
    "# csv 파일 주소\n",
    "data_csv_url = './csv_data/test_data4.csv'"
   ]
  },
  {
   "cell_type": "markdown",
   "id": "102e6b62-d637-453d-b22b-2f2c2afe92dc",
   "metadata": {},
   "source": [
    "# split train_ds, validation_ds, test_ds"
   ]
  },
  {
   "cell_type": "code",
   "execution_count": 13,
   "id": "02cf0afd-2fb5-4347-9bf2-ca244ed3f557",
   "metadata": {},
   "outputs": [],
   "source": [
    "import pandas as pd"
   ]
  },
  {
   "cell_type": "code",
   "execution_count": 14,
   "id": "dfb28857-9d70-41f1-9681-469f39384675",
   "metadata": {},
   "outputs": [
    {
     "data": {
      "text/html": [
       "<div>\n",
       "<style scoped>\n",
       "    .dataframe tbody tr th:only-of-type {\n",
       "        vertical-align: middle;\n",
       "    }\n",
       "\n",
       "    .dataframe tbody tr th {\n",
       "        vertical-align: top;\n",
       "    }\n",
       "\n",
       "    .dataframe thead th {\n",
       "        text-align: right;\n",
       "    }\n",
       "</style>\n",
       "<table border=\"1\" class=\"dataframe\">\n",
       "  <thead>\n",
       "    <tr style=\"text-align: right;\">\n",
       "      <th></th>\n",
       "      <th>Unnamed: 0</th>\n",
       "      <th>Sentence</th>\n",
       "      <th>Emotion</th>\n",
       "    </tr>\n",
       "  </thead>\n",
       "  <tbody>\n",
       "    <tr>\n",
       "      <th>0</th>\n",
       "      <td>0</td>\n",
       "      <td>언니 동생으로 부르는게 맞는 일인가요..??</td>\n",
       "      <td>공포</td>\n",
       "    </tr>\n",
       "    <tr>\n",
       "      <th>1</th>\n",
       "      <td>1</td>\n",
       "      <td>그냥 내 느낌일뿐겠지?</td>\n",
       "      <td>공포</td>\n",
       "    </tr>\n",
       "    <tr>\n",
       "      <th>2</th>\n",
       "      <td>2</td>\n",
       "      <td>아직너무초기라서 그런거죠?</td>\n",
       "      <td>공포</td>\n",
       "    </tr>\n",
       "    <tr>\n",
       "      <th>3</th>\n",
       "      <td>3</td>\n",
       "      <td>유치원버스 사고 낫다던데</td>\n",
       "      <td>공포</td>\n",
       "    </tr>\n",
       "    <tr>\n",
       "      <th>4</th>\n",
       "      <td>4</td>\n",
       "      <td>근데 원래이런거맞나요</td>\n",
       "      <td>공포</td>\n",
       "    </tr>\n",
       "    <tr>\n",
       "      <th>5</th>\n",
       "      <td>5</td>\n",
       "      <td>남자친구가 떠날까봐요</td>\n",
       "      <td>공포</td>\n",
       "    </tr>\n",
       "    <tr>\n",
       "      <th>6</th>\n",
       "      <td>6</td>\n",
       "      <td>이거 했는데 허리가 아플수도 있나요? ;;</td>\n",
       "      <td>공포</td>\n",
       "    </tr>\n",
       "    <tr>\n",
       "      <th>7</th>\n",
       "      <td>7</td>\n",
       "      <td>내가불안해서꾸는걸까..</td>\n",
       "      <td>공포</td>\n",
       "    </tr>\n",
       "    <tr>\n",
       "      <th>8</th>\n",
       "      <td>8</td>\n",
       "      <td>일주일도 안 남았당...ㅠㅠ</td>\n",
       "      <td>공포</td>\n",
       "    </tr>\n",
       "    <tr>\n",
       "      <th>9</th>\n",
       "      <td>9</td>\n",
       "      <td>약은 최대한 안먹으려고 하는데좋은 음시있나요?0</td>\n",
       "      <td>공포</td>\n",
       "    </tr>\n",
       "    <tr>\n",
       "      <th>10</th>\n",
       "      <td>10</td>\n",
       "      <td>구직활동 하면서 남는시간은 뭘로 활용해야 되지..</td>\n",
       "      <td>공포</td>\n",
       "    </tr>\n",
       "    <tr>\n",
       "      <th>11</th>\n",
       "      <td>11</td>\n",
       "      <td>괜찮은분 같아서 괜히 조급해지네요 ㅜ</td>\n",
       "      <td>공포</td>\n",
       "    </tr>\n",
       "    <tr>\n",
       "      <th>12</th>\n",
       "      <td>12</td>\n",
       "      <td>제가 스타일을 바꾸면 더 어색하게만 변할것같아서 ㅠ0</td>\n",
       "      <td>공포</td>\n",
       "    </tr>\n",
       "    <tr>\n",
       "      <th>13</th>\n",
       "      <td>13</td>\n",
       "      <td>아내 있으면 여자 있는 술집가면 법 적으로 문제있나요?</td>\n",
       "      <td>공포</td>\n",
       "    </tr>\n",
       "    <tr>\n",
       "      <th>14</th>\n",
       "      <td>14</td>\n",
       "      <td>한소리들을지.... 도와주세요</td>\n",
       "      <td>공포</td>\n",
       "    </tr>\n",
       "    <tr>\n",
       "      <th>15</th>\n",
       "      <td>15</td>\n",
       "      <td>도와주실분 없나요..</td>\n",
       "      <td>공포</td>\n",
       "    </tr>\n",
       "    <tr>\n",
       "      <th>16</th>\n",
       "      <td>16</td>\n",
       "      <td>그냥 잡다한거말고학업에 관련된거 듣는게 더 좋은가요?</td>\n",
       "      <td>공포</td>\n",
       "    </tr>\n",
       "    <tr>\n",
       "      <th>17</th>\n",
       "      <td>17</td>\n",
       "      <td>가격은 반값....이거 질이 다른건가요??</td>\n",
       "      <td>공포</td>\n",
       "    </tr>\n",
       "    <tr>\n",
       "      <th>18</th>\n",
       "      <td>18</td>\n",
       "      <td>마지막에 말씀 드렸던대로 글은 이제 내릴게요의도치않게 실시간베스트글에 올라가서 남친...</td>\n",
       "      <td>공포</td>\n",
       "    </tr>\n",
       "    <tr>\n",
       "      <th>19</th>\n",
       "      <td>19</td>\n",
       "      <td>화장품회사다보니, 젊은 여자들이 많은거 같은데 걱정이네요..</td>\n",
       "      <td>공포</td>\n",
       "    </tr>\n",
       "  </tbody>\n",
       "</table>\n",
       "</div>"
      ],
      "text/plain": [
       "    Unnamed: 0                                           Sentence Emotion\n",
       "0            0                           언니 동생으로 부르는게 맞는 일인가요..??      공포\n",
       "1            1                                       그냥 내 느낌일뿐겠지?      공포\n",
       "2            2                                     아직너무초기라서 그런거죠?      공포\n",
       "3            3                                      유치원버스 사고 낫다던데      공포\n",
       "4            4                                        근데 원래이런거맞나요      공포\n",
       "5            5                                        남자친구가 떠날까봐요      공포\n",
       "6            6                            이거 했는데 허리가 아플수도 있나요? ;;      공포\n",
       "7            7                                       내가불안해서꾸는걸까..      공포\n",
       "8            8                                    일주일도 안 남았당...ㅠㅠ      공포\n",
       "9            9                         약은 최대한 안먹으려고 하는데좋은 음시있나요?0      공포\n",
       "10          10                        구직활동 하면서 남는시간은 뭘로 활용해야 되지..      공포\n",
       "11          11                               괜찮은분 같아서 괜히 조급해지네요 ㅜ      공포\n",
       "12          12                      제가 스타일을 바꾸면 더 어색하게만 변할것같아서 ㅠ0      공포\n",
       "13          13                     아내 있으면 여자 있는 술집가면 법 적으로 문제있나요?      공포\n",
       "14          14                                   한소리들을지.... 도와주세요      공포\n",
       "15          15                                        도와주실분 없나요..      공포\n",
       "16          16                      그냥 잡다한거말고학업에 관련된거 듣는게 더 좋은가요?      공포\n",
       "17          17                            가격은 반값....이거 질이 다른건가요??      공포\n",
       "18          18  마지막에 말씀 드렸던대로 글은 이제 내릴게요의도치않게 실시간베스트글에 올라가서 남친...      공포\n",
       "19          19                  화장품회사다보니, 젊은 여자들이 많은거 같은데 걱정이네요..      공포"
      ]
     },
     "execution_count": 14,
     "metadata": {},
     "output_type": "execute_result"
    }
   ],
   "source": [
    "data_pd = pd.read_csv(data_csv_url)\n",
    "\n",
    "data_pd.head(20)"
   ]
  },
  {
   "cell_type": "code",
   "execution_count": 15,
   "id": "7eb29c0d-c108-4019-8e74-69e089c5f6a4",
   "metadata": {},
   "outputs": [
    {
     "data": {
      "text/plain": [
       "(Index(['Unnamed: 0', 'Sentence', 'Emotion'], dtype='object'), (28335, 3))"
      ]
     },
     "execution_count": 15,
     "metadata": {},
     "output_type": "execute_result"
    }
   ],
   "source": [
    "# Data 컬럼, 데이터 shape 조회\n",
    "data_pd.columns, data_pd.shape"
   ]
  },
  {
   "cell_type": "markdown",
   "id": "9366a833-1519-4d96-9a8f-d2134882a254",
   "metadata": {},
   "source": [
    "## 데이터를 무작위로 섞고, 컬럼명을 변경해준다"
   ]
  },
  {
   "cell_type": "code",
   "execution_count": 16,
   "id": "7540a39f-b871-4859-ba94-067b60b47f0f",
   "metadata": {},
   "outputs": [
    {
     "data": {
      "text/html": [
       "<div>\n",
       "<style scoped>\n",
       "    .dataframe tbody tr th:only-of-type {\n",
       "        vertical-align: middle;\n",
       "    }\n",
       "\n",
       "    .dataframe tbody tr th {\n",
       "        vertical-align: top;\n",
       "    }\n",
       "\n",
       "    .dataframe thead th {\n",
       "        text-align: right;\n",
       "    }\n",
       "</style>\n",
       "<table border=\"1\" class=\"dataframe\">\n",
       "  <thead>\n",
       "    <tr style=\"text-align: right;\">\n",
       "      <th></th>\n",
       "      <th>sentence</th>\n",
       "      <th>label</th>\n",
       "    </tr>\n",
       "  </thead>\n",
       "  <tbody>\n",
       "    <tr>\n",
       "      <th>7290</th>\n",
       "      <td>이렇게 큰줄 처음알아서 충격먹음0</td>\n",
       "      <td>놀람</td>\n",
       "    </tr>\n",
       "    <tr>\n",
       "      <th>4569</th>\n",
       "      <td>어떻게 감당할지 여전히 어렵고 모르겠어요.</td>\n",
       "      <td>공포</td>\n",
       "    </tr>\n",
       "    <tr>\n",
       "      <th>24642</th>\n",
       "      <td>용기있는 지식인</td>\n",
       "      <td>행복</td>\n",
       "    </tr>\n",
       "    <tr>\n",
       "      <th>13688</th>\n",
       "      <td>국민연금 토해놓고 하야해라</td>\n",
       "      <td>분노</td>\n",
       "    </tr>\n",
       "    <tr>\n",
       "      <th>27286</th>\n",
       "      <td>딱 나가기 좋은날씨네</td>\n",
       "      <td>행복</td>\n",
       "    </tr>\n",
       "    <tr>\n",
       "      <th>10409</th>\n",
       "      <td>전 아직 안와서그애가 안쓴건지.</td>\n",
       "      <td>놀람</td>\n",
       "    </tr>\n",
       "    <tr>\n",
       "      <th>6380</th>\n",
       "      <td>상태가안조아도대단하다 4000원이라니</td>\n",
       "      <td>놀람</td>\n",
       "    </tr>\n",
       "    <tr>\n",
       "      <th>20354</th>\n",
       "      <td>남자친구랑 장거리 연애중인데ㅠㅠㅠ</td>\n",
       "      <td>슬픔</td>\n",
       "    </tr>\n",
       "    <tr>\n",
       "      <th>17796</th>\n",
       "      <td>저 정말 학교 생활때문에 죽고 싶을 정도로 힘 들어요.</td>\n",
       "      <td>슬픔</td>\n",
       "    </tr>\n",
       "    <tr>\n",
       "      <th>11480</th>\n",
       "      <td>나보다 2살 쳐 많길래 참는다</td>\n",
       "      <td>분노</td>\n",
       "    </tr>\n",
       "    <tr>\n",
       "      <th>4817</th>\n",
       "      <td>이건 완전 아웃오브 안중이겠죠.... ?????</td>\n",
       "      <td>공포</td>\n",
       "    </tr>\n",
       "    <tr>\n",
       "      <th>27222</th>\n",
       "      <td>응 약쟁이 삼고빕~ ^^</td>\n",
       "      <td>행복</td>\n",
       "    </tr>\n",
       "    <tr>\n",
       "      <th>26968</th>\n",
       "      <td>#4.축하합니다~</td>\n",
       "      <td>행복</td>\n",
       "    </tr>\n",
       "    <tr>\n",
       "      <th>15771</th>\n",
       "      <td>짱깨집 짬뽕도 아니고</td>\n",
       "      <td>분노</td>\n",
       "    </tr>\n",
       "    <tr>\n",
       "      <th>15979</th>\n",
       "      <td>아무리 친구라지만 여자친구가 있는 상태에서 다른 여자랑 단둘이 데이트 하고 알고보...</td>\n",
       "      <td>분노</td>\n",
       "    </tr>\n",
       "    <tr>\n",
       "      <th>1387</th>\n",
       "      <td>8시에 먹은 커피때문인가??</td>\n",
       "      <td>공포</td>\n",
       "    </tr>\n",
       "    <tr>\n",
       "      <th>13274</th>\n",
       "      <td>진짜로하 열받는다.</td>\n",
       "      <td>분노</td>\n",
       "    </tr>\n",
       "    <tr>\n",
       "      <th>8397</th>\n",
       "      <td>옛 소련이였던 러시아가 쓰다버린 저 고철덩어리로 미국에게 까분다....... ㅋㅋㅋㅋㅋ</td>\n",
       "      <td>놀람</td>\n",
       "    </tr>\n",
       "    <tr>\n",
       "      <th>23742</th>\n",
       "      <td>심지어 작가도 아름답구나</td>\n",
       "      <td>행복</td>\n",
       "    </tr>\n",
       "    <tr>\n",
       "      <th>5605</th>\n",
       "      <td>담배피로 잠깐갔는데 깜짝놀랏네</td>\n",
       "      <td>놀람</td>\n",
       "    </tr>\n",
       "  </tbody>\n",
       "</table>\n",
       "</div>"
      ],
      "text/plain": [
       "                                                sentence label\n",
       "7290                                  이렇게 큰줄 처음알아서 충격먹음0    놀람\n",
       "4569                             어떻게 감당할지 여전히 어렵고 모르겠어요.    공포\n",
       "24642                                           용기있는 지식인    행복\n",
       "13688                                     국민연금 토해놓고 하야해라    분노\n",
       "27286                                        딱 나가기 좋은날씨네    행복\n",
       "10409                                  전 아직 안와서그애가 안쓴건지.    놀람\n",
       "6380                                상태가안조아도대단하다 4000원이라니    놀람\n",
       "20354                                 남자친구랑 장거리 연애중인데ㅠㅠㅠ    슬픔\n",
       "17796                     저 정말 학교 생활때문에 죽고 싶을 정도로 힘 들어요.    슬픔\n",
       "11480                                   나보다 2살 쳐 많길래 참는다    분노\n",
       "4817                          이건 완전 아웃오브 안중이겠죠.... ?????    공포\n",
       "27222                                      응 약쟁이 삼고빕~ ^^    행복\n",
       "26968                                          #4.축하합니다~    행복\n",
       "15771                                        짱깨집 짬뽕도 아니고    분노\n",
       "15979   아무리 친구라지만 여자친구가 있는 상태에서 다른 여자랑 단둘이 데이트 하고 알고보...    분노\n",
       "1387                                     8시에 먹은 커피때문인가??    공포\n",
       "13274                                         진짜로하 열받는다.    분노\n",
       "8397    옛 소련이였던 러시아가 쓰다버린 저 고철덩어리로 미국에게 까분다....... ㅋㅋㅋㅋㅋ    놀람\n",
       "23742                                      심지어 작가도 아름답구나    행복\n",
       "5605                                    담배피로 잠깐갔는데 깜짝놀랏네    놀람"
      ]
     },
     "execution_count": 16,
     "metadata": {},
     "output_type": "execute_result"
    }
   ],
   "source": [
    "# 컬럼 명 변경\n",
    "data_pd = data_pd.rename(columns={'Sentence': 'sentence', 'Emotion': 'label'})\n",
    "\n",
    "# Unnamed 컬럼 제거\n",
    "data_pd = data_pd.drop('Unnamed: 0', axis=1)\n",
    "\n",
    "# 데이터를 무작위로 섞어준다\n",
    "shuffled_data = data_pd.sample(frac=1)\n",
    "shuffled_data.head(20)"
   ]
  },
  {
   "cell_type": "code",
   "execution_count": 17,
   "id": "56f95346-23b1-4573-9675-1f08a24b145a",
   "metadata": {},
   "outputs": [
    {
     "name": "stderr",
     "output_type": "stream",
     "text": [
      "Some weights of the model checkpoint at monologg/distilkobert were not used when initializing DistilBertForSequenceClassification: ['vocab_projector.weight', 'vocab_transform.weight', 'vocab_layer_norm.bias', 'vocab_transform.bias', 'vocab_projector.bias', 'vocab_layer_norm.weight']\n",
      "- This IS expected if you are initializing DistilBertForSequenceClassification from the checkpoint of a model trained on another task or with another architecture (e.g. initializing a BertForSequenceClassification model from a BertForPreTraining model).\n",
      "- This IS NOT expected if you are initializing DistilBertForSequenceClassification from the checkpoint of a model that you expect to be exactly identical (initializing a BertForSequenceClassification model from a BertForSequenceClassification model).\n",
      "Some weights of DistilBertForSequenceClassification were not initialized from the model checkpoint at monologg/distilkobert and are newly initialized: ['classifier.bias', 'pre_classifier.bias', 'pre_classifier.weight', 'classifier.weight']\n",
      "You should probably TRAIN this model on a down-stream task to be able to use it for predictions and inference.\n",
      "The tokenizer class you load from this checkpoint is not the same type as the class this function is called from. It may result in unexpected tokenization. \n",
      "The tokenizer class you load from this checkpoint is 'DistilBertTokenizer'. \n",
      "The class this function is called from is 'KoBertTokenizer'.\n"
     ]
    }
   ],
   "source": [
    "from transformers import AutoModelForSequenceClassification\n",
    "from tokenization_kobert import KoBertTokenizer\n",
    "\n",
    "model = AutoModelForSequenceClassification.from_pretrained('monologg/distilkobert')\n",
    "tokenizer = KoBertTokenizer.from_pretrained('monologg/distilkobert')"
   ]
  },
  {
   "cell_type": "code",
   "execution_count": 18,
   "id": "4e4d5693-f6bc-43b7-9ca4-30b64b4c7f72",
   "metadata": {},
   "outputs": [
    {
     "data": {
      "text/plain": [
       "device(type='cuda')"
      ]
     },
     "execution_count": 18,
     "metadata": {},
     "output_type": "execute_result"
    }
   ],
   "source": [
    "import torch\n",
    "\n",
    "device = torch.device('cuda' if torch.cuda.is_available() else 'cpu')\n",
    "device"
   ]
  },
  {
   "cell_type": "code",
   "execution_count": 19,
   "id": "d724f57e-478d-4a67-97e5-e83c69234100",
   "metadata": {},
   "outputs": [],
   "source": [
    "# extract labels\n",
    "id2label = {}\n",
    "label2id = {}\n",
    "\n",
    "for i, label in enumerate(shuffled_data.label.unique()):\n",
    "    id2label[i] = label\n",
    "    label2id[label] = i"
   ]
  },
  {
   "cell_type": "code",
   "execution_count": 20,
   "id": "bae601d4-275d-4ff8-aacc-1e4564bbe314",
   "metadata": {},
   "outputs": [],
   "source": [
    "import torch\n",
    "from torch.utils.data import Dataset\n",
    "\n",
    "class CustomDataset(Dataset):\n",
    "    def __init__(self, df, label2id):\n",
    "        self.data = df.values\n",
    "        self.label2id = label2id\n",
    "    \n",
    "    def __len__(self):\n",
    "        return len(self.data)\n",
    "    \n",
    "    def __getitem__(self, idx):\n",
    "        result = self.data[idx, 0]\n",
    "        result = tokenizer(result, truncation=True, return_token_type_ids=False)\n",
    "        label = self.data[idx, -1]\n",
    "        label = self.label2id[label]\n",
    "        result['label'] = label\n",
    "        \n",
    "        return result"
   ]
  },
  {
   "cell_type": "code",
   "execution_count": 21,
   "id": "1ebde197-f6bf-48ab-8776-fb362f8112dc",
   "metadata": {},
   "outputs": [
    {
     "data": {
      "text/plain": [
       "({'input_ids': [2, 4473, 7199, 7784, 7255, 7850, 7416, 6332, 7852, 7843, 3], 'attention_mask': [1, 1, 1, 1, 1, 1, 1, 1, 1, 1, 1], 'label': 3},\n",
       " {'input_ids': [2, 5149, 7191, 5536, 2084, 5346, 6973, 6003, 5330, 5702, 54, 415, 442, 7881, 5134, 7096, 5702, 54, 3], 'attention_mask': [1, 1, 1, 1, 1, 1, 1, 1, 1, 1, 1, 1, 1, 1, 1, 1, 1, 1, 1], 'label': 0})"
      ]
     },
     "execution_count": 21,
     "metadata": {},
     "output_type": "execute_result"
    }
   ],
   "source": [
    "import pandas as pd\n",
    "from sklearn.model_selection import train_test_split\n",
    "from torch.utils.data import DataLoader, SubsetRandomSampler\n",
    "import random\n",
    "\n",
    "# pandas 데이터를 train, validation, test로 나눈다 (약 8:1:1 비율로 생성)\n",
    "train_df, test_df = train_test_split(shuffled_data, test_size=0.1, random_state=42)\n",
    "train_df, validation_df = train_test_split(train_df, test_size=0.11, random_state=42)\n",
    "\n",
    "# Dataset 생성\n",
    "train_ds, validation_ds, test_ds = CustomDataset(train_df, label2id), CustomDataset(validation_df, label2id), CustomDataset(test_df, label2id)\n",
    "\n",
    "train_ds.__getitem__(0), validation_ds.__getitem__(0)"
   ]
  },
  {
   "cell_type": "code",
   "execution_count": 22,
   "id": "9cdb9966-4709-48be-b184-f1393fdf559a",
   "metadata": {},
   "outputs": [
    {
     "data": {
      "image/png": "[encoded data removed]",
      "text/plain": [
       "<Figure size 640x480 with 1 Axes>"
      ]
     },
     "metadata": {},
     "output_type": "display_data"
    }
   ],
   "source": [
    "import pandas as pd\n",
    "import matplotlib.pyplot as plt\n",
    "\n",
    "plt.rcParams['font.family'] = 'NanumGothic' # 한글 폰트 설정\n",
    "\n",
    "train_df['label'].value_counts(ascending=True).plot.barh()\n",
    "plt.title('Frequency')\n",
    "plt.show()"
   ]
  },
  {
   "cell_type": "code",
   "execution_count": 23,
   "id": "61d3e1c2-ddda-4543-ba79-8b3ec5f24a9d",
   "metadata": {},
   "outputs": [
    {
     "name": "stderr",
     "output_type": "stream",
     "text": [
      "2023-05-02 12:05:55.041114: I tensorflow/core/util/port.cc:110] oneDNN custom operations are on. You may see slightly different numerical results due to floating-point round-off errors from different computation orders. To turn them off, set the environment variable `TF_ENABLE_ONEDNN_OPTS=0`.\n",
      "2023-05-02 12:05:55.086991: I tensorflow/core/platform/cpu_feature_guard.cc:182] This TensorFlow binary is optimized to use available CPU instructions in performance-critical operations.\n",
      "To enable the following instructions: AVX2 AVX512F AVX512_VNNI FMA, in other operations, rebuild TensorFlow with the appropriate compiler flags.\n",
      "2023-05-02 12:05:56.267147: W tensorflow/compiler/tf2tensorrt/utils/py_utils.cc:38] TF-TRT Warning: Could not find TensorRT\n"
     ]
    }
   ],
   "source": [
    "from transformers import DataCollatorWithPadding\n",
    "\n",
    "data_collator = DataCollatorWithPadding(tokenizer=tokenizer, padding='longest')"
   ]
  },
  {
   "cell_type": "code",
   "execution_count": 24,
   "id": "52f3afc8-66e8-413b-ae6b-eb52f34dbff1",
   "metadata": {},
   "outputs": [],
   "source": [
    "# Evalate\n",
    "import evaluate\n",
    "\n",
    "accuracy = evaluate.load('accuracy')"
   ]
  },
  {
   "cell_type": "code",
   "execution_count": 25,
   "id": "ce281d9b-e60b-430c-bbc7-678ecfd25b97",
   "metadata": {},
   "outputs": [],
   "source": [
    "def compute_metrics(eval_pred):\n",
    "    predictions, labels = eval_pred\n",
    "    predictions = np.argmax(predictions, axis=1)\n",
    "    return accuracy.compute(predictions=predictions, labels=labels)"
   ]
  },
  {
   "cell_type": "code",
   "execution_count": 26,
   "id": "f39aedd6-a8dc-48b3-8db4-028b91a3bbad",
   "metadata": {},
   "outputs": [
    {
     "name": "stderr",
     "output_type": "stream",
     "text": [
      "Some weights of the model checkpoint at monologg/distilkobert were not used when initializing DistilBertForSequenceClassification: ['vocab_projector.weight', 'vocab_transform.weight', 'vocab_layer_norm.bias', 'vocab_transform.bias', 'vocab_projector.bias', 'vocab_layer_norm.weight']\n",
      "- This IS expected if you are initializing DistilBertForSequenceClassification from the checkpoint of a model trained on another task or with another architecture (e.g. initializing a BertForSequenceClassification model from a BertForPreTraining model).\n",
      "- This IS NOT expected if you are initializing DistilBertForSequenceClassification from the checkpoint of a model that you expect to be exactly identical (initializing a BertForSequenceClassification model from a BertForSequenceClassification model).\n",
      "Some weights of DistilBertForSequenceClassification were not initialized from the model checkpoint at monologg/distilkobert and are newly initialized: ['classifier.bias', 'pre_classifier.bias', 'pre_classifier.weight', 'classifier.weight']\n",
      "You should probably TRAIN this model on a down-stream task to be able to use it for predictions and inference.\n"
     ]
    }
   ],
   "source": [
    "from transformers import AutoModelForSequenceClassification, TrainingArguments, Trainer\n",
    "\n",
    "model = AutoModelForSequenceClassification.from_pretrained(\n",
    "    \"monologg/distilkobert\", num_labels=len(id2label), id2label=id2label, label2id=label2id\n",
    ")"
   ]
  },
  {
   "cell_type": "code",
   "execution_count": 27,
   "id": "84f35c09-fe67-4400-b39e-fcf09191459b",
   "metadata": {},
   "outputs": [
    {
     "data": {
      "text/plain": [
       "DistilBertConfig {\n",
       "  \"_name_or_path\": \"monologg/distilkobert\",\n",
       "  \"activation\": \"gelu\",\n",
       "  \"architectures\": [\n",
       "    \"DistilBertForMaskedLM\"\n",
       "  ],\n",
       "  \"attention_dropout\": 0.1,\n",
       "  \"dim\": 768,\n",
       "  \"dropout\": 0.1,\n",
       "  \"hidden_dim\": 3072,\n",
       "  \"id2label\": {\n",
       "    \"0\": \"\\ub180\\ub78c\",\n",
       "    \"1\": \"\\uacf5\\ud3ec\",\n",
       "    \"2\": \"\\ud589\\ubcf5\",\n",
       "    \"3\": \"\\ubd84\\ub178\",\n",
       "    \"4\": \"\\uc2ac\\ud514\"\n",
       "  },\n",
       "  \"initializer_range\": 0.02,\n",
       "  \"label2id\": {\n",
       "    \"\\uacf5\\ud3ec\": 1,\n",
       "    \"\\ub180\\ub78c\": 0,\n",
       "    \"\\ubd84\\ub178\": 3,\n",
       "    \"\\uc2ac\\ud514\": 4,\n",
       "    \"\\ud589\\ubcf5\": 2\n",
       "  },\n",
       "  \"max_position_embeddings\": 512,\n",
       "  \"model_type\": \"distilbert\",\n",
       "  \"n_heads\": 12,\n",
       "  \"n_layers\": 3,\n",
       "  \"pad_token_id\": 1,\n",
       "  \"qa_dropout\": 0.1,\n",
       "  \"seq_classif_dropout\": 0.2,\n",
       "  \"sinusoidal_pos_embds\": false,\n",
       "  \"tie_weights_\": true,\n",
       "  \"transformers_version\": \"4.28.1\",\n",
       "  \"vocab_size\": 8002\n",
       "}"
      ]
     },
     "execution_count": 27,
     "metadata": {},
     "output_type": "execute_result"
    }
   ],
   "source": [
    "model.config"
   ]
  },
  {
   "cell_type": "code",
   "execution_count": 28,
   "id": "bd71226f-3191-4fb9-b4f0-d65817f8d909",
   "metadata": {},
   "outputs": [
    {
     "name": "stderr",
     "output_type": "stream",
     "text": [
      "/home/elicer/.local/lib/python3.10/site-packages/transformers/optimization.py:391: FutureWarning: This implementation of AdamW is deprecated and will be removed in a future version. Use the PyTorch implementation torch.optim.AdamW instead, or set `no_deprecation_warning=True` to disable this warning\n",
      "  warnings.warn(\n"
     ]
    },
    {
     "data": {
      "text/html": [
       "\n",
       "    <div>\n",
       "      \n",
       "      <progress value='42570' max='42570' style='width:300px; height:20px; vertical-align: middle;'></progress>\n",
       "      [42570/42570 38:14, Epoch 30/30]\n",
       "    </div>\n",
       "    <table border=\"1\" class=\"dataframe\">\n",
       "  <thead>\n",
       " <tr style=\"text-align: left;\">\n",
       "      <th>Step</th>\n",
       "      <th>Training Loss</th>\n",
       "      <th>Validation Loss</th>\n",
       "    </tr>\n",
       "  </thead>\n",
       "  <tbody>\n",
       "    <tr>\n",
       "      <td>1000</td>\n",
       "      <td>0.930800</td>\n",
       "      <td>0.863978</td>\n",
       "    </tr>\n",
       "    <tr>\n",
       "      <td>2000</td>\n",
       "      <td>0.785300</td>\n",
       "      <td>0.854507</td>\n",
       "    </tr>\n",
       "    <tr>\n",
       "      <td>3000</td>\n",
       "      <td>0.712000</td>\n",
       "      <td>0.857285</td>\n",
       "    </tr>\n",
       "    <tr>\n",
       "      <td>4000</td>\n",
       "      <td>0.664000</td>\n",
       "      <td>0.870058</td>\n",
       "    </tr>\n",
       "    <tr>\n",
       "      <td>5000</td>\n",
       "      <td>0.560100</td>\n",
       "      <td>0.910031</td>\n",
       "    </tr>\n",
       "    <tr>\n",
       "      <td>6000</td>\n",
       "      <td>0.480700</td>\n",
       "      <td>1.008818</td>\n",
       "    </tr>\n",
       "    <tr>\n",
       "      <td>7000</td>\n",
       "      <td>0.462800</td>\n",
       "      <td>1.004667</td>\n",
       "    </tr>\n",
       "    <tr>\n",
       "      <td>8000</td>\n",
       "      <td>0.373500</td>\n",
       "      <td>1.145962</td>\n",
       "    </tr>\n",
       "    <tr>\n",
       "      <td>9000</td>\n",
       "      <td>0.305000</td>\n",
       "      <td>1.208338</td>\n",
       "    </tr>\n",
       "    <tr>\n",
       "      <td>10000</td>\n",
       "      <td>0.295600</td>\n",
       "      <td>1.300254</td>\n",
       "    </tr>\n",
       "    <tr>\n",
       "      <td>11000</td>\n",
       "      <td>0.245700</td>\n",
       "      <td>1.447138</td>\n",
       "    </tr>\n",
       "    <tr>\n",
       "      <td>12000</td>\n",
       "      <td>0.204700</td>\n",
       "      <td>1.621143</td>\n",
       "    </tr>\n",
       "    <tr>\n",
       "      <td>13000</td>\n",
       "      <td>0.192800</td>\n",
       "      <td>1.632828</td>\n",
       "    </tr>\n",
       "    <tr>\n",
       "      <td>14000</td>\n",
       "      <td>0.187800</td>\n",
       "      <td>1.839432</td>\n",
       "    </tr>\n",
       "    <tr>\n",
       "      <td>15000</td>\n",
       "      <td>0.151900</td>\n",
       "      <td>1.950042</td>\n",
       "    </tr>\n",
       "    <tr>\n",
       "      <td>16000</td>\n",
       "      <td>0.135000</td>\n",
       "      <td>2.145269</td>\n",
       "    </tr>\n",
       "    <tr>\n",
       "      <td>17000</td>\n",
       "      <td>0.144700</td>\n",
       "      <td>2.165411</td>\n",
       "    </tr>\n",
       "    <tr>\n",
       "      <td>18000</td>\n",
       "      <td>0.111800</td>\n",
       "      <td>2.366836</td>\n",
       "    </tr>\n",
       "    <tr>\n",
       "      <td>19000</td>\n",
       "      <td>0.107900</td>\n",
       "      <td>2.432305</td>\n",
       "    </tr>\n",
       "    <tr>\n",
       "      <td>20000</td>\n",
       "      <td>0.099700</td>\n",
       "      <td>2.627467</td>\n",
       "    </tr>\n",
       "    <tr>\n",
       "      <td>21000</td>\n",
       "      <td>0.085700</td>\n",
       "      <td>2.743052</td>\n",
       "    </tr>\n",
       "    <tr>\n",
       "      <td>22000</td>\n",
       "      <td>0.091900</td>\n",
       "      <td>2.903904</td>\n",
       "    </tr>\n",
       "    <tr>\n",
       "      <td>23000</td>\n",
       "      <td>0.072600</td>\n",
       "      <td>2.965697</td>\n",
       "    </tr>\n",
       "    <tr>\n",
       "      <td>24000</td>\n",
       "      <td>0.076600</td>\n",
       "      <td>3.038723</td>\n",
       "    </tr>\n",
       "    <tr>\n",
       "      <td>25000</td>\n",
       "      <td>0.068300</td>\n",
       "      <td>3.176942</td>\n",
       "    </tr>\n",
       "    <tr>\n",
       "      <td>26000</td>\n",
       "      <td>0.057600</td>\n",
       "      <td>3.326891</td>\n",
       "    </tr>\n",
       "    <tr>\n",
       "      <td>27000</td>\n",
       "      <td>0.067600</td>\n",
       "      <td>3.335054</td>\n",
       "    </tr>\n",
       "    <tr>\n",
       "      <td>28000</td>\n",
       "      <td>0.051900</td>\n",
       "      <td>3.500387</td>\n",
       "    </tr>\n",
       "    <tr>\n",
       "      <td>29000</td>\n",
       "      <td>0.056900</td>\n",
       "      <td>3.497959</td>\n",
       "    </tr>\n",
       "    <tr>\n",
       "      <td>30000</td>\n",
       "      <td>0.053600</td>\n",
       "      <td>3.613509</td>\n",
       "    </tr>\n",
       "    <tr>\n",
       "      <td>31000</td>\n",
       "      <td>0.039800</td>\n",
       "      <td>3.597592</td>\n",
       "    </tr>\n",
       "    <tr>\n",
       "      <td>32000</td>\n",
       "      <td>0.031000</td>\n",
       "      <td>3.698731</td>\n",
       "    </tr>\n",
       "    <tr>\n",
       "      <td>33000</td>\n",
       "      <td>0.039900</td>\n",
       "      <td>3.742554</td>\n",
       "    </tr>\n",
       "    <tr>\n",
       "      <td>34000</td>\n",
       "      <td>0.037200</td>\n",
       "      <td>3.844478</td>\n",
       "    </tr>\n",
       "    <tr>\n",
       "      <td>35000</td>\n",
       "      <td>0.040900</td>\n",
       "      <td>3.840558</td>\n",
       "    </tr>\n",
       "    <tr>\n",
       "      <td>36000</td>\n",
       "      <td>0.030700</td>\n",
       "      <td>3.884604</td>\n",
       "    </tr>\n",
       "    <tr>\n",
       "      <td>37000</td>\n",
       "      <td>0.027600</td>\n",
       "      <td>3.990459</td>\n",
       "    </tr>\n",
       "    <tr>\n",
       "      <td>38000</td>\n",
       "      <td>0.033000</td>\n",
       "      <td>3.981647</td>\n",
       "    </tr>\n",
       "    <tr>\n",
       "      <td>39000</td>\n",
       "      <td>0.034100</td>\n",
       "      <td>3.978328</td>\n",
       "    </tr>\n",
       "    <tr>\n",
       "      <td>40000</td>\n",
       "      <td>0.022000</td>\n",
       "      <td>4.041328</td>\n",
       "    </tr>\n",
       "    <tr>\n",
       "      <td>41000</td>\n",
       "      <td>0.032200</td>\n",
       "      <td>4.019789</td>\n",
       "    </tr>\n",
       "    <tr>\n",
       "      <td>42000</td>\n",
       "      <td>0.033300</td>\n",
       "      <td>4.046927</td>\n",
       "    </tr>\n",
       "  </tbody>\n",
       "</table><p>"
      ],
      "text/plain": [
       "<IPython.core.display.HTML object>"
      ]
     },
     "metadata": {},
     "output_type": "display_data"
    },
    {
     "data": {
      "text/plain": [
       "TrainOutput(global_step=42570, training_loss=0.20142200108506406, metrics={'train_runtime': 2295.3754, 'train_samples_per_second': 296.618, 'train_steps_per_second': 18.546, 'total_flos': 3123913686065418.0, 'train_loss': 0.20142200108506406, 'epoch': 30.0})"
      ]
     },
     "execution_count": 28,
     "metadata": {},
     "output_type": "execute_result"
    }
   ],
   "source": [
    "import numpy as np\n",
    "\n",
    "training_args = TrainingArguments(\n",
    "    output_dir=\"my_awesome_model\",\n",
    "    learning_rate=4e-5,\n",
    "    per_device_train_batch_size=16,\n",
    "    per_device_eval_batch_size=16,\n",
    "    num_train_epochs=30,\n",
    "    weight_decay=0.01,\n",
    "    evaluation_strategy=\"steps\",\n",
    "    save_strategy=\"steps\",\n",
    "    eval_steps=1000, \n",
    "    save_steps=1000,\n",
    "    save_total_limit=10,\n",
    "    load_best_model_at_end=True\n",
    ")\n",
    "\n",
    "trainer = Trainer(\n",
    "    model=model,\n",
    "    args=training_args,\n",
    "    train_dataset=train_ds,\n",
    "    eval_dataset=validation_ds,\n",
    "#    tokenizer=tokenizer,\n",
    "    data_collator=data_collator,\n",
    "    # compute_metrics=compute_metrics,\n",
    ")\n",
    "\n",
    "trainer.train()"
   ]
  },
  {
   "cell_type": "code",
   "execution_count": 29,
   "id": "f4596daa-ea61-471e-af05-92f055612d0a",
   "metadata": {},
   "outputs": [
    {
     "data": {
      "text/plain": [
       "'4.28.1'"
      ]
     },
     "execution_count": 29,
     "metadata": {},
     "output_type": "execute_result"
    }
   ],
   "source": [
    "import transformers\n",
    "\n",
    "transformers.__version__"
   ]
  },
  {
   "cell_type": "code",
   "execution_count": 30,
   "id": "273088ab-1c62-4ee5-b702-bb7bea13ec37",
   "metadata": {},
   "outputs": [
    {
     "data": {
      "text/plain": [
       "{'input_ids': [2, 1741, 7848, 6241, 5468, 2298, 5907, 6516, 7096, 1907, 6113, 5439, 517, 0, 5861, 4924, 5757, 5778, 7096, 2355, 7005, 7782, 6493, 3503, 1931, 6579, 2095, 5521, 7941, 2650, 7422, 6122, 5112, 6060, 5350, 6516, 1682, 6498, 1682, 7078, 1315, 7096, 2355, 7207, 7782, 6579, 3], 'token_type_ids': [0, 0, 0, 0, 0, 0, 0, 0, 0, 0, 0, 0, 0, 0, 0, 0, 0, 0, 0, 0, 0, 0, 0, 0, 0, 0, 0, 0, 0, 0, 0, 0, 0, 0, 0, 0, 0, 0, 0, 0, 0, 0, 0, 0, 0, 0, 0], 'attention_mask': [1, 1, 1, 1, 1, 1, 1, 1, 1, 1, 1, 1, 1, 1, 1, 1, 1, 1, 1, 1, 1, 1, 1, 1, 1, 1, 1, 1, 1, 1, 1, 1, 1, 1, 1, 1, 1, 1, 1, 1, 1, 1, 1, 1, 1, 1, 1]}"
      ]
     },
     "execution_count": 30,
     "metadata": {},
     "output_type": "execute_result"
    }
   ],
   "source": [
    "tokenizer(\"동해물과 백두산이 마르고 닳도록 하느님이 보우하사 우리나라 만세 무궁화 삼천리 화려강산 대한사람 대한으로 길이 보전하세\")"
   ]
  },
  {
   "cell_type": "code",
   "execution_count": 31,
   "id": "9f43b8f6-48fb-4f9b-b28d-6982577fddf8",
   "metadata": {},
   "outputs": [],
   "source": [
    "from transformers import pipeline\n",
    "\n",
    "# 파이프라인 가져올 때 model은 사용중인 model을 주면 댐\n",
    "classifier = pipeline(\"sentiment-analysis\", model=model, tokenizer=tokenizer)"
   ]
  },
  {
   "cell_type": "code",
   "execution_count": 32,
   "id": "d2485604-9dcf-47e4-8d8a-0bcdf4b6de8e",
   "metadata": {},
   "outputs": [
    {
     "data": {
      "text/html": [],
      "text/plain": [
       "<IPython.core.display.HTML object>"
      ]
     },
     "metadata": {},
     "output_type": "display_data"
    },
    {
     "name": "stdout",
     "output_type": "stream",
     "text": [
      "PredictionOutput(predictions=array([[ 2.3723686 , -0.8756723 , -0.05394095, -0.33515573, -1.308012  ],\n",
      "       [-0.7564216 ,  0.12397674, -1.5904492 , -1.1221542 ,  2.9092772 ],\n",
      "       [ 0.1297454 ,  0.73933214, -0.60874206, -1.209689  ,  0.70337665],\n",
      "       ...,\n",
      "       [-1.8611364 ,  0.64057   ,  0.6148507 , -1.7017727 ,  2.1383014 ],\n",
      "       [ 0.8340327 , -0.9753913 ,  1.92859   , -0.40689766, -1.4127704 ],\n",
      "       [-0.5540884 ,  2.5634732 , -2.9094126 , -2.5207639 ,  2.3185885 ]],\n",
      "      dtype=float32), label_ids=array([0, 4, 1, ..., 4, 2, 4]), metrics={'test_loss': 0.8545069098472595, 'test_runtime': 2.809, 'test_samples_per_second': 998.925, 'test_steps_per_second': 62.655})\n"
     ]
    }
   ],
   "source": [
    "yhat = trainer.predict(validation_ds)\n",
    "print(yhat)"
   ]
  },
  {
   "cell_type": "code",
   "execution_count": 33,
   "id": "41e68c88-1146-41ce-83b6-6a3749456896",
   "metadata": {},
   "outputs": [
    {
     "data": {
      "text/plain": [
       "{'accuracy': 0.6785459729151817}"
      ]
     },
     "execution_count": 33,
     "metadata": {},
     "output_type": "execute_result"
    }
   ],
   "source": [
    "predictions = yhat[0]\n",
    "labels = yhat[1]\n",
    "predictions = np.argmax(predictions, axis=1)\n",
    "\n",
    "accuracy.compute(predictions=predictions, references=labels)"
   ]
  },
  {
   "cell_type": "code",
   "execution_count": 34,
   "id": "877cdfd1-c308-4393-a343-85c994bb432f",
   "metadata": {},
   "outputs": [],
   "source": [
    "# 오차행렬 생성\n",
    "from sklearn.metrics import ConfusionMatrixDisplay, confusion_matrix\n",
    "\n",
    "def plot_confusion_matrix(y_preds, y_true, labels):\n",
    "    cm = confusion_matrix(y_true, y_preds, normalize=\"true\")\n",
    "    fig, ax = plt.subplots(figsize=(6, 6))\n",
    "    disp = ConfusionMatrixDisplay(confusion_matrix=cm, display_labels=labels)\n",
    "    disp.plot(cmap=\"Blues\", values_format=\".2f\", ax=ax, colorbar=False)\n",
    "    plt.title(\"Normalized confusion matrix\")\n",
    "    plt.show()"
   ]
  },
  {
   "cell_type": "code",
   "execution_count": 35,
   "id": "23dcbc2b-5ec4-4f50-87d9-375d0eedb438",
   "metadata": {},
   "outputs": [
    {
     "data": {
      "text/plain": [
       "4"
      ]
     },
     "execution_count": 35,
     "metadata": {},
     "output_type": "execute_result"
    }
   ],
   "source": [
    "validation_ds[1][\"label\"]"
   ]
  },
  {
   "cell_type": "code",
   "execution_count": 36,
   "id": "f68926ef-8d57-4611-aa81-497b0e5007df",
   "metadata": {},
   "outputs": [
    {
     "data": {
      "image/png": "[encoded data removed]",
      "text/plain": [
       "<Figure size 600x600 with 1 Axes>"
      ]
     },
     "metadata": {},
     "output_type": "display_data"
    }
   ],
   "source": [
    "# 답안지\n",
    "y_valid = [data[\"label\"] for data in validation_ds]\n",
    "y_valid = [id2label[label] for label in y_valid]\n",
    "\n",
    "# 예측치\n",
    "y_preds = [id2label[label] for label in predictions]\n",
    "\n",
    "# labels\n",
    "labels = label2id.keys()\n",
    "\n",
    "plot_confusion_matrix(y_preds, y_valid, labels)"
   ]
  },
  {
   "cell_type": "code",
   "execution_count": null,
   "id": "aeb4ab72-1b08-4041-b3bb-c63fbc2bde49",
   "metadata": {},
   "outputs": [],
   "source": []
  }
 ],
 "metadata": {
  "kernelspec": {
   "display_name": "Python 3 (ipykernel)",
   "language": "python",
   "name": "python3"
  },
  "language_info": {
   "codemirror_mode": {
    "name": "ipython",
    "version": 3
   },
   "file_extension": ".py",
   "mimetype": "text/x-python",
   "name": "python",
   "nbconvert_exporter": "python",
   "pygments_lexer": "ipython3",
   "version": "3.10.10"
  }
 },
 "nbformat": 4,
 "nbformat_minor": 5
}
